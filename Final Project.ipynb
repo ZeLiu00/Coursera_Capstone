{
    "cells": [
        {
            "cell_type": "markdown",
            "metadata": {},
            "source": "# Capstone Project"
        },
        {
            "cell_type": "markdown",
            "metadata": {},
            "source": "## Introduction"
        },
        {
            "cell_type": "markdown",
            "metadata": {},
            "source": "### Concentrated on selection of cinema location according to its nearby environment. Cinema facility and rental price is not my concern. He lists out his top 10 favorite cinemas in Hong Kong with rating."
        },
        {
            "cell_type": "markdown",
            "metadata": {},
            "source": "## Data"
        },
        {
            "cell_type": "markdown",
            "metadata": {},
            "source": "I need to compare 5 possible locations with current cinemas in Hong Kong. Therefore, I need to find a list of Hong Kong cinema and cinemas' geographic coordinates. Luckily, I can find the list and coordinates from the website https://hkmovie6.com/cinema ."
        },
        {
            "cell_type": "code",
            "execution_count": 28,
            "metadata": {},
            "outputs": [
                {
                    "name": "stdout",
                    "output_type": "stream",
                    "text": "Libraries are imported.\n"
                }
            ],
            "source": "# importing libraries\nimport json\nimport pandas as pd\nprint('Libraries are imported.')"
        },
        {
            "cell_type": "code",
            "execution_count": 24,
            "metadata": {},
            "outputs": [
                {
                    "name": "stdout",
                    "output_type": "stream",
                    "text": "--2020-02-04 21:56:03--  https://hkmovie6.com/api/cinemas/lists\nResolving hkmovie6.com (hkmovie6.com)... 104.31.66.1, 104.31.67.1, 2606:4700:3035::681f:4201, ...\nConnecting to hkmovie6.com (hkmovie6.com)|104.31.66.1|:443... connected.\nHTTP request sent, awaiting response... 200 OK\nLength: unspecified [application/json]\nSaving to: \u2018hk_cinema_list.json\u2019\n\n    [ <=>                                   ] 56,404       350KB/s   in 0.2s   \n\n2020-02-04 21:56:04 (350 KB/s) - \u2018hk_cinema_list.json\u2019 saved [56404]\n\n"
                }
            ],
            "source": "# Download the cinema list\n!wget -O hk_cinema_list.json https://hkmovie6.com/api/cinemas/lists"
        },
        {
            "cell_type": "code",
            "execution_count": 25,
            "metadata": {},
            "outputs": [],
            "source": "# Convert the JSON data into DataFrmae\ncinemas_json = None\nwith open('hk_cinema_list.json', 'r', encoding='utf-8') as f:\n    cinemas_json = json.load(f)\n    \ncinemas = []\nfor data in cinemas_json['data']:    \n    cinemas.append({\n        'Name': data['name'],\n        'ChiName': data['chiName'],\n        'Address': data['address'],\n        'Latitude': data['lat'],\n        'Longitude': data['lon']\n    })\ndf_cinemas = pd.DataFrame(cinemas, columns=['Name','ChiName','Address','Latitude','Longitude'])"
        },
        {
            "cell_type": "code",
            "execution_count": 26,
            "metadata": {},
            "outputs": [
                {
                    "name": "stdout",
                    "output_type": "stream",
                    "text": "There are 73 cinemas in Hong Kong\n"
                }
            ],
            "source": "print('There are {} cinemas in Hong Kong'.format(len(df_cinemas)))"
        },
        {
            "cell_type": "code",
            "execution_count": 27,
            "metadata": {},
            "outputs": [
                {
                    "data": {
                        "text/html": "<div>\n<style scoped>\n    .dataframe tbody tr th:only-of-type {\n        vertical-align: middle;\n    }\n\n    .dataframe tbody tr th {\n        vertical-align: top;\n    }\n\n    .dataframe thead th {\n        text-align: right;\n    }\n</style>\n<table border=\"1\" class=\"dataframe\">\n  <thead>\n    <tr style=\"text-align: right;\">\n      <th></th>\n      <th>Name</th>\n      <th>ChiName</th>\n      <th>Address</th>\n      <th>Latitude</th>\n      <th>Longitude</th>\n    </tr>\n  </thead>\n  <tbody>\n    <tr>\n      <th>0</th>\n      <td>Emperor Cinemas\uff08CITYWALK\uff09</td>\n      <td>\u82f1\u7687\u6232\u9662\uff08\u8343\u7063\u8343\u65b0\u5929\u5730\uff09</td>\n      <td>Citywalk II, Tsuen Wan</td>\n      <td>22.369749</td>\n      <td>114.113714</td>\n    </tr>\n    <tr>\n      <th>1</th>\n      <td>Emperor Cinemas\uff08iSQUARE\uff09</td>\n      <td>\u82f1\u7687\u6232\u9662\uff08\u5c16\u6c99\u5480iSQUARE\uff09</td>\n      <td>7/F, iSQUARE, 63 Nathan Road, Tsim Sha Tsui</td>\n      <td>22.304873</td>\n      <td>114.190682</td>\n    </tr>\n    <tr>\n      <th>2</th>\n      <td>Emperor Cinemas\uff08Entertainment Building\uff09</td>\n      <td>\u82f1\u7687\u6232\u9662\uff08\u4e2d\u74b0\u5a1b\u6a02\u884c\uff09</td>\n      <td>3/F, Emperor Cinemas Entertainment Building, 3...</td>\n      <td>22.281453</td>\n      <td>114.154230</td>\n    </tr>\n    <tr>\n      <th>3</th>\n      <td>Emperor Cinemas\uff08Ma On Shan\uff09</td>\n      <td>\u82f1\u7687\u6232\u9662\uff08\u99ac\u978d\u5c71\u65b0\u6e2f\u57ce\u4e2d\u5fc3\uff09</td>\n      <td>L2, MOSTown, Sai Sha Road, Ma On Shan, N.T.</td>\n      <td>22.424120</td>\n      <td>114.230957</td>\n    </tr>\n    <tr>\n      <th>4</th>\n      <td>Emperor Cinemas\uff08Tuen Mun\uff09</td>\n      <td>\u82f1\u7687\u6232\u9662\uff08\u5c6f\u9580\u65b0\u90fd\u5546\u5834\uff09</td>\n      <td>3/F, New Town Commercial Arcade, 2 Tuen Lee St...</td>\n      <td>22.390776</td>\n      <td>113.975983</td>\n    </tr>\n  </tbody>\n</table>\n</div>",
                        "text/plain": "                                      Name           ChiName  \\\n0                Emperor Cinemas\uff08CITYWALK\uff09      \u82f1\u7687\u6232\u9662\uff08\u8343\u7063\u8343\u65b0\u5929\u5730\uff09   \n1                 Emperor Cinemas\uff08iSQUARE\uff09  \u82f1\u7687\u6232\u9662\uff08\u5c16\u6c99\u5480iSQUARE\uff09   \n2  Emperor Cinemas\uff08Entertainment Building\uff09       \u82f1\u7687\u6232\u9662\uff08\u4e2d\u74b0\u5a1b\u6a02\u884c\uff09   \n3              Emperor Cinemas\uff08Ma On Shan\uff09    \u82f1\u7687\u6232\u9662\uff08\u99ac\u978d\u5c71\u65b0\u6e2f\u57ce\u4e2d\u5fc3\uff09   \n4                Emperor Cinemas\uff08Tuen Mun\uff09      \u82f1\u7687\u6232\u9662\uff08\u5c6f\u9580\u65b0\u90fd\u5546\u5834\uff09   \n\n                                             Address   Latitude   Longitude  \n0                             Citywalk II, Tsuen Wan  22.369749  114.113714  \n1        7/F, iSQUARE, 63 Nathan Road, Tsim Sha Tsui  22.304873  114.190682  \n2  3/F, Emperor Cinemas Entertainment Building, 3...  22.281453  114.154230  \n3        L2, MOSTown, Sai Sha Road, Ma On Shan, N.T.  22.424120  114.230957  \n4  3/F, New Town Commercial Arcade, 2 Tuen Lee St...  22.390776  113.975983  "
                    },
                    "execution_count": 27,
                    "metadata": {},
                    "output_type": "execute_result"
                }
            ],
            "source": "df_cinemas.head()"
        },
        {
            "cell_type": "markdown",
            "metadata": {},
            "source": "\nMethodology section which represents the main component of the report where you discuss and describe any exploratory data analysis that you did, any inferential statistical testing that you performed, and what machine learnings were used and why."
        },
        {
            "cell_type": "code",
            "execution_count": 44,
            "metadata": {},
            "outputs": [
                {
                    "data": {
                        "text/html": "<div>\n<style scoped>\n    .dataframe tbody tr th:only-of-type {\n        vertical-align: middle;\n    }\n\n    .dataframe tbody tr th {\n        vertical-align: top;\n    }\n\n    .dataframe thead th {\n        text-align: right;\n    }\n</style>\n<table border=\"1\" class=\"dataframe\">\n  <thead>\n    <tr style=\"text-align: right;\">\n      <th></th>\n      <th>Name</th>\n      <th>ChiName</th>\n      <th>Address</th>\n      <th>Latitude</th>\n      <th>Longitude</th>\n    </tr>\n  </thead>\n  <tbody>\n    <tr>\n      <th>19</th>\n      <td>Cinema City VICTORIA (Causeway Bay)</td>\n      <td>Cinema City VICTORIA (\u9285\u947c\u7063)</td>\n      <td>2-8 Sugar Street, Causeway Bay, Hong Kong</td>\n      <td>22.279805</td>\n      <td>114.187126</td>\n    </tr>\n    <tr>\n      <th>20</th>\n      <td>Diamond Suite VIP House @ Cinema City VICTORIA...</td>\n      <td>Diamond Suite VIP House @ Cinema City VICTORIA...</td>\n      <td>2-8 Sugar Street, Causeway Bay, Hong Kong</td>\n      <td>22.279805</td>\n      <td>114.187126</td>\n    </tr>\n    <tr>\n      <th>50</th>\n      <td>UA Cine Moko</td>\n      <td>UA Cine Moko</td>\n      <td>L4, MOKO, 193 Prince Edward Road West, Mongkok...</td>\n      <td>22.323800</td>\n      <td>114.172000</td>\n    </tr>\n    <tr>\n      <th>53</th>\n      <td>UnionPay IMAX @ UA Cine Moko</td>\n      <td>UnionPay IMAX @ UA Cine Moko</td>\n      <td>L4, MOKO, 193 Prince Edward Road West, Mongkok...</td>\n      <td>22.323800</td>\n      <td>114.172000</td>\n    </tr>\n    <tr>\n      <th>48</th>\n      <td>Oscars Club @ UA MegaBox</td>\n      <td>Oscars Club @ UA MegaBox</td>\n      <td>Level 11, MegaBox, Enterprise Square 5, 38 Wan...</td>\n      <td>22.319533</td>\n      <td>114.208555</td>\n    </tr>\n    <tr>\n      <th>52</th>\n      <td>UA MegaBox</td>\n      <td>UA MegaBox</td>\n      <td>Level 11, MegaBox, Enterprise Square 5, 38 Wan...</td>\n      <td>22.319533</td>\n      <td>114.208555</td>\n    </tr>\n    <tr>\n      <th>54</th>\n      <td>UnionPay IMAX @ UA MegaBox</td>\n      <td>UnionPay IMAX @ UA MegaBox</td>\n      <td>Level 11, MegaBox, Enterprise Square 5, 38 Wan...</td>\n      <td>22.319533</td>\n      <td>114.208555</td>\n    </tr>\n    <tr>\n      <th>15</th>\n      <td>Blackbox @ K11 Art House</td>\n      <td>Blackbox @ K11 Art House</td>\n      <td>Shop 415, 4/F, Victoria Dockside K11 MUSEA, 18...</td>\n      <td>22.294059</td>\n      <td>114.171934</td>\n    </tr>\n    <tr>\n      <th>16</th>\n      <td>K11 Art House</td>\n      <td>K11 Art House</td>\n      <td>Shop 415, 4/F, Victoria Dockside K11 MUSEA, 18...</td>\n      <td>22.294059</td>\n      <td>114.171934</td>\n    </tr>\n    <tr>\n      <th>17</th>\n      <td>UnionPay IMAX @ K11 Art House</td>\n      <td>UnionPay IMAX @ K11 Art House</td>\n      <td>Shop 415, 4/F, Victoria Dockside K11 MUSEA, 18...</td>\n      <td>22.294059</td>\n      <td>114.171934</td>\n    </tr>\n  </tbody>\n</table>\n</div>",
                        "text/plain": "                                                 Name  \\\n19                Cinema City VICTORIA (Causeway Bay)   \n20  Diamond Suite VIP House @ Cinema City VICTORIA...   \n50                                       UA Cine Moko   \n53                       UnionPay IMAX @ UA Cine Moko   \n48                           Oscars Club @ UA MegaBox   \n52                                         UA MegaBox   \n54                         UnionPay IMAX @ UA MegaBox   \n15                           Blackbox @ K11 Art House   \n16                                      K11 Art House   \n17                      UnionPay IMAX @ K11 Art House   \n\n                                              ChiName  \\\n19                         Cinema City VICTORIA (\u9285\u947c\u7063)   \n20  Diamond Suite VIP House @ Cinema City VICTORIA...   \n50                                       UA Cine Moko   \n53                       UnionPay IMAX @ UA Cine Moko   \n48                           Oscars Club @ UA MegaBox   \n52                                         UA MegaBox   \n54                         UnionPay IMAX @ UA MegaBox   \n15                           Blackbox @ K11 Art House   \n16                                      K11 Art House   \n17                      UnionPay IMAX @ K11 Art House   \n\n                                              Address   Latitude   Longitude  \n19          2-8 Sugar Street, Causeway Bay, Hong Kong  22.279805  114.187126  \n20          2-8 Sugar Street, Causeway Bay, Hong Kong  22.279805  114.187126  \n50  L4, MOKO, 193 Prince Edward Road West, Mongkok...  22.323800  114.172000  \n53  L4, MOKO, 193 Prince Edward Road West, Mongkok...  22.323800  114.172000  \n48  Level 11, MegaBox, Enterprise Square 5, 38 Wan...  22.319533  114.208555  \n52  Level 11, MegaBox, Enterprise Square 5, 38 Wan...  22.319533  114.208555  \n54  Level 11, MegaBox, Enterprise Square 5, 38 Wan...  22.319533  114.208555  \n15  Shop 415, 4/F, Victoria Dockside K11 MUSEA, 18...  22.294059  114.171934  \n16  Shop 415, 4/F, Victoria Dockside K11 MUSEA, 18...  22.294059  114.171934  \n17  Shop 415, 4/F, Victoria Dockside K11 MUSEA, 18...  22.294059  114.171934  "
                    },
                    "execution_count": 44,
                    "metadata": {},
                    "output_type": "execute_result"
                }
            ],
            "source": "duplicated = df_cinemas.duplicated('Address', keep=False)\ndf_cinemas[duplicated].sort_values('Address')"
        },
        {
            "cell_type": "code",
            "execution_count": 45,
            "metadata": {},
            "outputs": [],
            "source": "# The Grand SC Starsuite -> The Grand Cinema\ndf_cinemas.loc[29, 'Name'] = 'The Grand Cinema'\n\n# XXX @ UA MegaBox -> UA MegaBox\ndf_cinemas.loc[44, 'Name'] = 'UA MegaBox'\ndf_cinemas.loc[45, 'Name'] = 'UA MegaBox'\n\n# BEA IMAX @ UA Cine Moko -> UA Cine Moko\ndf_cinemas.loc[42, 'Name'] = 'UA Cine Moko'\n\n# XXX @ UA iSQUARE -> iSQUARE\ndf_cinemas.loc[43, 'Name'] = 'UA iSQUARE'\ndf_cinemas.loc[46, 'Name'] = 'UA iSQUARE'\n\n# Emperor Cinemas - Entertainment Building\ndf_cinemas.loc[1, 'Name'] = 'Emperor Cinemas - Entertainment Building'\n\n# Cinema City VICTORIA (Causeway Bay)\ndf_cinemas.loc[6, 'Name'] = 'Cinema City VICTORIA (Causeway Bay)'"
        },
        {
            "cell_type": "code",
            "execution_count": 46,
            "metadata": {},
            "outputs": [
                {
                    "data": {
                        "text/html": "<div>\n<style scoped>\n    .dataframe tbody tr th:only-of-type {\n        vertical-align: middle;\n    }\n\n    .dataframe tbody tr th {\n        vertical-align: top;\n    }\n\n    .dataframe thead th {\n        text-align: right;\n    }\n</style>\n<table border=\"1\" class=\"dataframe\">\n  <thead>\n    <tr style=\"text-align: right;\">\n      <th></th>\n      <th>Name</th>\n      <th>ChiName</th>\n      <th>Address</th>\n      <th>Latitude</th>\n      <th>Longitude</th>\n    </tr>\n  </thead>\n  <tbody>\n    <tr>\n      <th>15</th>\n      <td>Blackbox @ K11 Art House</td>\n      <td>Blackbox @ K11 Art House</td>\n      <td>Shop 415, 4/F, Victoria Dockside K11 MUSEA, 18...</td>\n      <td>22.294059</td>\n      <td>114.171934</td>\n    </tr>\n    <tr>\n      <th>16</th>\n      <td>K11 Art House</td>\n      <td>K11 Art House</td>\n      <td>Shop 415, 4/F, Victoria Dockside K11 MUSEA, 18...</td>\n      <td>22.294059</td>\n      <td>114.171934</td>\n    </tr>\n    <tr>\n      <th>17</th>\n      <td>UnionPay IMAX @ K11 Art House</td>\n      <td>UnionPay IMAX @ K11 Art House</td>\n      <td>Shop 415, 4/F, Victoria Dockside K11 MUSEA, 18...</td>\n      <td>22.294059</td>\n      <td>114.171934</td>\n    </tr>\n    <tr>\n      <th>19</th>\n      <td>Cinema City VICTORIA (Causeway Bay)</td>\n      <td>Cinema City VICTORIA (\u9285\u947c\u7063)</td>\n      <td>2-8 Sugar Street, Causeway Bay, Hong Kong</td>\n      <td>22.279805</td>\n      <td>114.187126</td>\n    </tr>\n    <tr>\n      <th>20</th>\n      <td>Diamond Suite VIP House @ Cinema City VICTORIA...</td>\n      <td>Diamond Suite VIP House @ Cinema City VICTORIA...</td>\n      <td>2-8 Sugar Street, Causeway Bay, Hong Kong</td>\n      <td>22.279805</td>\n      <td>114.187126</td>\n    </tr>\n    <tr>\n      <th>48</th>\n      <td>Oscars Club @ UA MegaBox</td>\n      <td>Oscars Club @ UA MegaBox</td>\n      <td>Level 11, MegaBox, Enterprise Square 5, 38 Wan...</td>\n      <td>22.319533</td>\n      <td>114.208555</td>\n    </tr>\n    <tr>\n      <th>50</th>\n      <td>UA Cine Moko</td>\n      <td>UA Cine Moko</td>\n      <td>L4, MOKO, 193 Prince Edward Road West, Mongkok...</td>\n      <td>22.323800</td>\n      <td>114.172000</td>\n    </tr>\n    <tr>\n      <th>52</th>\n      <td>UA MegaBox</td>\n      <td>UA MegaBox</td>\n      <td>Level 11, MegaBox, Enterprise Square 5, 38 Wan...</td>\n      <td>22.319533</td>\n      <td>114.208555</td>\n    </tr>\n    <tr>\n      <th>53</th>\n      <td>UnionPay IMAX @ UA Cine Moko</td>\n      <td>UnionPay IMAX @ UA Cine Moko</td>\n      <td>L4, MOKO, 193 Prince Edward Road West, Mongkok...</td>\n      <td>22.323800</td>\n      <td>114.172000</td>\n    </tr>\n    <tr>\n      <th>54</th>\n      <td>UnionPay IMAX @ UA MegaBox</td>\n      <td>UnionPay IMAX @ UA MegaBox</td>\n      <td>Level 11, MegaBox, Enterprise Square 5, 38 Wan...</td>\n      <td>22.319533</td>\n      <td>114.208555</td>\n    </tr>\n  </tbody>\n</table>\n</div>",
                        "text/plain": "                                                 Name  \\\n15                           Blackbox @ K11 Art House   \n16                                      K11 Art House   \n17                      UnionPay IMAX @ K11 Art House   \n19                Cinema City VICTORIA (Causeway Bay)   \n20  Diamond Suite VIP House @ Cinema City VICTORIA...   \n48                           Oscars Club @ UA MegaBox   \n50                                       UA Cine Moko   \n52                                         UA MegaBox   \n53                       UnionPay IMAX @ UA Cine Moko   \n54                         UnionPay IMAX @ UA MegaBox   \n\n                                              ChiName  \\\n15                           Blackbox @ K11 Art House   \n16                                      K11 Art House   \n17                      UnionPay IMAX @ K11 Art House   \n19                         Cinema City VICTORIA (\u9285\u947c\u7063)   \n20  Diamond Suite VIP House @ Cinema City VICTORIA...   \n48                           Oscars Club @ UA MegaBox   \n50                                       UA Cine Moko   \n52                                         UA MegaBox   \n53                       UnionPay IMAX @ UA Cine Moko   \n54                         UnionPay IMAX @ UA MegaBox   \n\n                                              Address   Latitude   Longitude  \n15  Shop 415, 4/F, Victoria Dockside K11 MUSEA, 18...  22.294059  114.171934  \n16  Shop 415, 4/F, Victoria Dockside K11 MUSEA, 18...  22.294059  114.171934  \n17  Shop 415, 4/F, Victoria Dockside K11 MUSEA, 18...  22.294059  114.171934  \n19          2-8 Sugar Street, Causeway Bay, Hong Kong  22.279805  114.187126  \n20          2-8 Sugar Street, Causeway Bay, Hong Kong  22.279805  114.187126  \n48  Level 11, MegaBox, Enterprise Square 5, 38 Wan...  22.319533  114.208555  \n50  L4, MOKO, 193 Prince Edward Road West, Mongkok...  22.323800  114.172000  \n52  Level 11, MegaBox, Enterprise Square 5, 38 Wan...  22.319533  114.208555  \n53  L4, MOKO, 193 Prince Edward Road West, Mongkok...  22.323800  114.172000  \n54  Level 11, MegaBox, Enterprise Square 5, 38 Wan...  22.319533  114.208555  "
                    },
                    "execution_count": 46,
                    "metadata": {},
                    "output_type": "execute_result"
                }
            ],
            "source": "df_cinemas[duplicated]"
        },
        {
            "cell_type": "code",
            "execution_count": 47,
            "metadata": {},
            "outputs": [],
            "source": "df_cinemas.drop_duplicates('Address', inplace=True, keep='first')"
        },
        {
            "cell_type": "markdown",
            "metadata": {},
            "source": "drop the records"
        },
        {
            "cell_type": "code",
            "execution_count": 48,
            "metadata": {},
            "outputs": [
                {
                    "data": {
                        "text/html": "<div>\n<style scoped>\n    .dataframe tbody tr th:only-of-type {\n        vertical-align: middle;\n    }\n\n    .dataframe tbody tr th {\n        vertical-align: top;\n    }\n\n    .dataframe thead th {\n        text-align: right;\n    }\n</style>\n<table border=\"1\" class=\"dataframe\">\n  <thead>\n    <tr style=\"text-align: right;\">\n      <th></th>\n      <th>Name</th>\n      <th>ChiName</th>\n      <th>Address</th>\n      <th>Latitude</th>\n      <th>Longitude</th>\n    </tr>\n  </thead>\n  <tbody>\n    <tr>\n      <th>19</th>\n      <td>Cinema City VICTORIA (Causeway Bay)</td>\n      <td>Cinema City VICTORIA (\u9285\u947c\u7063)</td>\n      <td>2-8 Sugar Street, Causeway Bay, Hong Kong</td>\n      <td>22.279805</td>\n      <td>114.187126</td>\n    </tr>\n    <tr>\n      <th>45</th>\n      <td>UA MegaBox</td>\n      <td>Cinema City JP</td>\n      <td>3/F JP Plaza, 22-36 Paterson Street, Causeway ...</td>\n      <td>22.281040</td>\n      <td>114.185853</td>\n    </tr>\n    <tr>\n      <th>46</th>\n      <td>UA iSQUARE</td>\n      <td>Cinema City \u6717\u8c6a\u574a</td>\n      <td>Level 8-11, Langham Place, 8 Argyle Street, Mo...</td>\n      <td>22.317922</td>\n      <td>114.168704</td>\n    </tr>\n    <tr>\n      <th>50</th>\n      <td>UA Cine Moko</td>\n      <td>UA Cine Moko</td>\n      <td>L4, MOKO, 193 Prince Edward Road West, Mongkok...</td>\n      <td>22.323800</td>\n      <td>114.172000</td>\n    </tr>\n  </tbody>\n</table>\n</div>",
                        "text/plain": "                                   Name                     ChiName  \\\n19  Cinema City VICTORIA (Causeway Bay)  Cinema City VICTORIA (\u9285\u947c\u7063)   \n45                           UA MegaBox              Cinema City JP   \n46                           UA iSQUARE             Cinema City \u6717\u8c6a\u574a   \n50                         UA Cine Moko                UA Cine Moko   \n\n                                              Address   Latitude   Longitude  \n19          2-8 Sugar Street, Causeway Bay, Hong Kong  22.279805  114.187126  \n45  3/F JP Plaza, 22-36 Paterson Street, Causeway ...  22.281040  114.185853  \n46  Level 8-11, Langham Place, 8 Argyle Street, Mo...  22.317922  114.168704  \n50  L4, MOKO, 193 Prince Edward Road West, Mongkok...  22.323800  114.172000  "
                    },
                    "execution_count": 48,
                    "metadata": {},
                    "output_type": "execute_result"
                }
            ],
            "source": "df_cinemas[df_cinemas.duplicated('Name')]"
        },
        {
            "cell_type": "code",
            "execution_count": 49,
            "metadata": {},
            "outputs": [
                {
                    "data": {
                        "text/html": "<div>\n<style scoped>\n    .dataframe tbody tr th:only-of-type {\n        vertical-align: middle;\n    }\n\n    .dataframe tbody tr th {\n        vertical-align: top;\n    }\n\n    .dataframe thead th {\n        text-align: right;\n    }\n</style>\n<table border=\"1\" class=\"dataframe\">\n  <thead>\n    <tr style=\"text-align: right;\">\n      <th></th>\n      <th>Name</th>\n      <th>ChiName</th>\n      <th>Address</th>\n      <th>Latitude</th>\n      <th>Longitude</th>\n    </tr>\n  </thead>\n  <tbody>\n    <tr>\n      <th>0</th>\n      <td>Emperor Cinemas\uff08CITYWALK\uff09</td>\n      <td>\u82f1\u7687\u6232\u9662\uff08\u8343\u7063\u8343\u65b0\u5929\u5730\uff09</td>\n      <td>Citywalk II, Tsuen Wan</td>\n      <td>22.369749</td>\n      <td>114.113714</td>\n    </tr>\n    <tr>\n      <th>1</th>\n      <td>Emperor Cinemas - Entertainment Building</td>\n      <td>\u82f1\u7687\u6232\u9662\uff08\u5c16\u6c99\u5480iSQUARE\uff09</td>\n      <td>7/F, iSQUARE, 63 Nathan Road, Tsim Sha Tsui</td>\n      <td>22.304873</td>\n      <td>114.190682</td>\n    </tr>\n    <tr>\n      <th>2</th>\n      <td>Emperor Cinemas\uff08Entertainment Building\uff09</td>\n      <td>\u82f1\u7687\u6232\u9662\uff08\u4e2d\u74b0\u5a1b\u6a02\u884c\uff09</td>\n      <td>3/F, Emperor Cinemas Entertainment Building, 3...</td>\n      <td>22.281453</td>\n      <td>114.154230</td>\n    </tr>\n    <tr>\n      <th>3</th>\n      <td>Emperor Cinemas\uff08Ma On Shan\uff09</td>\n      <td>\u82f1\u7687\u6232\u9662\uff08\u99ac\u978d\u5c71\u65b0\u6e2f\u57ce\u4e2d\u5fc3\uff09</td>\n      <td>L2, MOSTown, Sai Sha Road, Ma On Shan, N.T.</td>\n      <td>22.424120</td>\n      <td>114.230957</td>\n    </tr>\n    <tr>\n      <th>4</th>\n      <td>Emperor Cinemas\uff08Tuen Mun\uff09</td>\n      <td>\u82f1\u7687\u6232\u9662\uff08\u5c6f\u9580\u65b0\u90fd\u5546\u5834\uff09</td>\n      <td>3/F, New Town Commercial Arcade, 2 Tuen Lee St...</td>\n      <td>22.390776</td>\n      <td>113.975983</td>\n    </tr>\n  </tbody>\n</table>\n</div>",
                        "text/plain": "                                       Name           ChiName  \\\n0                 Emperor Cinemas\uff08CITYWALK\uff09      \u82f1\u7687\u6232\u9662\uff08\u8343\u7063\u8343\u65b0\u5929\u5730\uff09   \n1  Emperor Cinemas - Entertainment Building  \u82f1\u7687\u6232\u9662\uff08\u5c16\u6c99\u5480iSQUARE\uff09   \n2   Emperor Cinemas\uff08Entertainment Building\uff09       \u82f1\u7687\u6232\u9662\uff08\u4e2d\u74b0\u5a1b\u6a02\u884c\uff09   \n3               Emperor Cinemas\uff08Ma On Shan\uff09    \u82f1\u7687\u6232\u9662\uff08\u99ac\u978d\u5c71\u65b0\u6e2f\u57ce\u4e2d\u5fc3\uff09   \n4                 Emperor Cinemas\uff08Tuen Mun\uff09      \u82f1\u7687\u6232\u9662\uff08\u5c6f\u9580\u65b0\u90fd\u5546\u5834\uff09   \n\n                                             Address   Latitude   Longitude  \n0                             Citywalk II, Tsuen Wan  22.369749  114.113714  \n1        7/F, iSQUARE, 63 Nathan Road, Tsim Sha Tsui  22.304873  114.190682  \n2  3/F, Emperor Cinemas Entertainment Building, 3...  22.281453  114.154230  \n3        L2, MOSTown, Sai Sha Road, Ma On Shan, N.T.  22.424120  114.230957  \n4  3/F, New Town Commercial Arcade, 2 Tuen Lee St...  22.390776  113.975983  "
                    },
                    "execution_count": 49,
                    "metadata": {},
                    "output_type": "execute_result"
                }
            ],
            "source": "df_cinemas.head()"
        },
        {
            "cell_type": "code",
            "execution_count": 50,
            "metadata": {},
            "outputs": [
                {
                    "data": {
                        "text/html": "<div>\n<style scoped>\n    .dataframe tbody tr th:only-of-type {\n        vertical-align: middle;\n    }\n\n    .dataframe tbody tr th {\n        vertical-align: top;\n    }\n\n    .dataframe thead th {\n        text-align: right;\n    }\n</style>\n<table border=\"1\" class=\"dataframe\">\n  <thead>\n    <tr style=\"text-align: right;\">\n      <th></th>\n      <th>ChiName</th>\n    </tr>\n  </thead>\n  <tbody>\n    <tr>\n      <th>0</th>\n      <td>\u82f1\u7687\u6232\u9662\uff08\u8343\u7063\u8343\u65b0\u5929\u5730\uff09</td>\n    </tr>\n    <tr>\n      <th>1</th>\n      <td>\u82f1\u7687\u6232\u9662\uff08\u5c16\u6c99\u5480iSQUARE\uff09</td>\n    </tr>\n    <tr>\n      <th>2</th>\n      <td>\u82f1\u7687\u6232\u9662\uff08\u4e2d\u74b0\u5a1b\u6a02\u884c\uff09</td>\n    </tr>\n    <tr>\n      <th>3</th>\n      <td>\u82f1\u7687\u6232\u9662\uff08\u99ac\u978d\u5c71\u65b0\u6e2f\u57ce\u4e2d\u5fc3\uff09</td>\n    </tr>\n    <tr>\n      <th>4</th>\n      <td>\u82f1\u7687\u6232\u9662\uff08\u5c6f\u9580\u65b0\u90fd\u5546\u5834\uff09</td>\n    </tr>\n    <tr>\n      <th>5</th>\n      <td>Festival Grand Cinema</td>\n    </tr>\n    <tr>\n      <th>6</th>\n      <td>\u5eb7\u6021\u6232\u9662</td>\n    </tr>\n    <tr>\n      <th>7</th>\n      <td>\u7687\u5ba4\u6232\u9662</td>\n    </tr>\n    <tr>\n      <th>8</th>\n      <td>MCL \u9577\u6c99\u7063\u6232\u9662</td>\n    </tr>\n    <tr>\n      <th>9</th>\n      <td>MCL \u7c89\u5dba\u6232\u9662</td>\n    </tr>\n    <tr>\n      <th>10</th>\n      <td>MCL \u65b0\u90fd\u57ce\u6232\u9662</td>\n    </tr>\n    <tr>\n      <th>11</th>\n      <td>MCL \u6d77\u6021\u6232\u9662</td>\n    </tr>\n    <tr>\n      <th>12</th>\n      <td>MCL \u5fb7\u798f\u6232\u9662</td>\n    </tr>\n    <tr>\n      <th>13</th>\n      <td>MOVIE TOWN - \u65b0\u57ce\u5e02\u5ee3\u5834</td>\n    </tr>\n    <tr>\n      <th>14</th>\n      <td>STAR Cinema</td>\n    </tr>\n    <tr>\n      <th>15</th>\n      <td>Blackbox @ K11 Art House</td>\n    </tr>\n    <tr>\n      <th>18</th>\n      <td>\u767e\u8001\u532f\u6232\u9662 - \u6578\u78bc\u6e2f</td>\n    </tr>\n    <tr>\n      <th>19</th>\n      <td>Cinema City VICTORIA (\u9285\u947c\u7063)</td>\n    </tr>\n    <tr>\n      <th>21</th>\n      <td>PALACE ifc</td>\n    </tr>\n    <tr>\n      <th>22</th>\n      <td>B+ cinema apm</td>\n    </tr>\n    <tr>\n      <th>23</th>\n      <td>\u767e\u8001\u532f\u96fb\u5f71\u4e2d\u5fc3</td>\n    </tr>\n    <tr>\n      <th>24</th>\n      <td>\u767e\u8001\u532f\u6232\u9662 - \u8377\u91cc\u6d3b</td>\n    </tr>\n    <tr>\n      <th>25</th>\n      <td>\u767e\u8001\u532f\u6232\u9662 - \u65fa\u89d2</td>\n    </tr>\n    <tr>\n      <th>26</th>\n      <td>\u767e\u8001\u532f\u6232\u9662 - The ONE</td>\n    </tr>\n    <tr>\n      <th>27</th>\n      <td>MOViE MOViE Cityplaza</td>\n    </tr>\n    <tr>\n      <th>28</th>\n      <td>PREMIERE ELEMENTS</td>\n    </tr>\n    <tr>\n      <th>29</th>\n      <td>\u767e\u8001\u532f\u6232\u9662 - \u5609\u6e56\u9280\u5ea7</td>\n    </tr>\n    <tr>\n      <th>30</th>\n      <td>\u767e\u8001\u532f\u6232\u9662 - \u8475\u82b3</td>\n    </tr>\n    <tr>\n      <th>31</th>\n      <td>\u767e\u8001\u532f\u6232\u9662 - \u8343\u7063</td>\n    </tr>\n    <tr>\n      <th>32</th>\n      <td>MY CINEMA YOHO MALL</td>\n    </tr>\n    <tr>\n      <th>33</th>\n      <td>AMC Pacific Place</td>\n    </tr>\n    <tr>\n      <th>34</th>\n      <td>CGV Cinemas D2 Place</td>\n    </tr>\n    <tr>\n      <th>35</th>\n      <td>the sky (\u5967\u6d77\u57ce)</td>\n    </tr>\n    <tr>\n      <th>36</th>\n      <td>\u5609\u79be\u9ec3\u57d4</td>\n    </tr>\n    <tr>\n      <th>37</th>\n      <td>\u5609\u79be\u7c89\u5dba</td>\n    </tr>\n    <tr>\n      <th>38</th>\n      <td>\u5609\u79be V WALK</td>\n    </tr>\n    <tr>\n      <th>39</th>\n      <td>StagE</td>\n    </tr>\n    <tr>\n      <th>40</th>\n      <td>\u5609\u79be\u555f\u5fb7</td>\n    </tr>\n    <tr>\n      <th>41</th>\n      <td>\u6d77\u904b\u6232\u9662</td>\n    </tr>\n    <tr>\n      <th>42</th>\n      <td>\u661f\u5f71\u532f</td>\n    </tr>\n    <tr>\n      <th>43</th>\n      <td>CANDY PARK BY CINEMA CITY (\u6109\u666f\u65b0\u57ce)</td>\n    </tr>\n    <tr>\n      <th>44</th>\n      <td>Cinema City \u67f4\u7063</td>\n    </tr>\n    <tr>\n      <th>45</th>\n      <td>Cinema City JP</td>\n    </tr>\n    <tr>\n      <th>46</th>\n      <td>Cinema City \u6717\u8c6a\u574a</td>\n    </tr>\n    <tr>\n      <th>47</th>\n      <td>UA Cine Times</td>\n    </tr>\n    <tr>\n      <th>48</th>\n      <td>Oscars Club @ UA MegaBox</td>\n    </tr>\n    <tr>\n      <th>49</th>\n      <td>UA \u6dd8\u5927</td>\n    </tr>\n    <tr>\n      <th>50</th>\n      <td>UA Cine Moko</td>\n    </tr>\n    <tr>\n      <th>51</th>\n      <td>UA \u9752\u8863\u57ce</td>\n    </tr>\n    <tr>\n      <th>55</th>\n      <td>UA \u6771\u8588\u57ce</td>\n    </tr>\n    <tr>\n      <th>56</th>\n      <td>\u7e3d\u7d71</td>\n    </tr>\n    <tr>\n      <th>57</th>\n      <td>\u65b0\u5bf6</td>\n    </tr>\n    <tr>\n      <th>58</th>\n      <td>\u9999\u6e2f\u79d1\u5b78\u9928\u6f14\u8b1b\u5ef3</td>\n    </tr>\n    <tr>\n      <th>59</th>\n      <td>\u5f71\u85dd\u6232\u9662</td>\n    </tr>\n    <tr>\n      <th>60</th>\n      <td>\u51f1\u90fd</td>\n    </tr>\n    <tr>\n      <th>61</th>\n      <td>\u5df4\u9ece\u502b\u6566\u7d10\u7d04\u7c73\u862d\u6232\u9662</td>\n    </tr>\n    <tr>\n      <th>62</th>\n      <td>\u5143\u6717\u6232\u9662</td>\n    </tr>\n    <tr>\n      <th>63</th>\n      <td>\u9999\u6e2f\u5146\u57fa\u5275\u610f\u66f8\u9662\u653e\u6620\u5ba4</td>\n    </tr>\n    <tr>\n      <th>64</th>\n      <td>L Cinema Shau Kei Wan</td>\n    </tr>\n    <tr>\n      <th>65</th>\n      <td>\u9999\u6e2f\u96fb\u5f71\u8cc7\u6599\u9928\u96fb\u5f71\u9662</td>\n    </tr>\n    <tr>\n      <th>66</th>\n      <td>\u9952\u9928\u65b0\u4e00\u5929\u9662\u7dda</td>\n    </tr>\n    <tr>\n      <th>67</th>\n      <td>\u9999\u6e2f\u85dd\u8853\u4e2d\u5fc3\u53e4\u5929\u6a02\u96fb\u5f71\u9662</td>\n    </tr>\n    <tr>\n      <th>68</th>\n      <td>Lumen Cinema</td>\n    </tr>\n    <tr>\n      <th>69</th>\n      <td>\u5bf6\u77f3\u6232\u9662</td>\n    </tr>\n    <tr>\n      <th>70</th>\n      <td>\u65b0\u5149\u6232\u9662\u5927\u5287\u5834</td>\n    </tr>\n    <tr>\n      <th>71</th>\n      <td>Super 3 \u5f71\u9662</td>\n    </tr>\n    <tr>\n      <th>72</th>\n      <td>\u5927\u9928</td>\n    </tr>\n  </tbody>\n</table>\n</div>",
                        "text/plain": "                             ChiName\n0                       \u82f1\u7687\u6232\u9662\uff08\u8343\u7063\u8343\u65b0\u5929\u5730\uff09\n1                   \u82f1\u7687\u6232\u9662\uff08\u5c16\u6c99\u5480iSQUARE\uff09\n2                        \u82f1\u7687\u6232\u9662\uff08\u4e2d\u74b0\u5a1b\u6a02\u884c\uff09\n3                     \u82f1\u7687\u6232\u9662\uff08\u99ac\u978d\u5c71\u65b0\u6e2f\u57ce\u4e2d\u5fc3\uff09\n4                       \u82f1\u7687\u6232\u9662\uff08\u5c6f\u9580\u65b0\u90fd\u5546\u5834\uff09\n5              Festival Grand Cinema\n6                               \u5eb7\u6021\u6232\u9662\n7                               \u7687\u5ba4\u6232\u9662\n8                          MCL \u9577\u6c99\u7063\u6232\u9662\n9                           MCL \u7c89\u5dba\u6232\u9662\n10                         MCL \u65b0\u90fd\u57ce\u6232\u9662\n11                          MCL \u6d77\u6021\u6232\u9662\n12                          MCL \u5fb7\u798f\u6232\u9662\n13                MOVIE TOWN - \u65b0\u57ce\u5e02\u5ee3\u5834\n14                       STAR Cinema\n15          Blackbox @ K11 Art House\n18                       \u767e\u8001\u532f\u6232\u9662 - \u6578\u78bc\u6e2f\n19        Cinema City VICTORIA (\u9285\u947c\u7063)\n21                        PALACE ifc\n22                     B+ cinema apm\n23                           \u767e\u8001\u532f\u96fb\u5f71\u4e2d\u5fc3\n24                       \u767e\u8001\u532f\u6232\u9662 - \u8377\u91cc\u6d3b\n25                        \u767e\u8001\u532f\u6232\u9662 - \u65fa\u89d2\n26                   \u767e\u8001\u532f\u6232\u9662 - The ONE\n27             MOViE MOViE Cityplaza\n28                 PREMIERE ELEMENTS\n29                      \u767e\u8001\u532f\u6232\u9662 - \u5609\u6e56\u9280\u5ea7\n30                        \u767e\u8001\u532f\u6232\u9662 - \u8475\u82b3\n31                        \u767e\u8001\u532f\u6232\u9662 - \u8343\u7063\n32               MY CINEMA YOHO MALL\n33                 AMC Pacific Place\n34              CGV Cinemas D2 Place\n35                     the sky (\u5967\u6d77\u57ce)\n36                              \u5609\u79be\u9ec3\u57d4\n37                              \u5609\u79be\u7c89\u5dba\n38                         \u5609\u79be V WALK\n39                             StagE\n40                              \u5609\u79be\u555f\u5fb7\n41                              \u6d77\u904b\u6232\u9662\n42                               \u661f\u5f71\u532f\n43  CANDY PARK BY CINEMA CITY (\u6109\u666f\u65b0\u57ce)\n44                    Cinema City \u67f4\u7063\n45                    Cinema City JP\n46                   Cinema City \u6717\u8c6a\u574a\n47                     UA Cine Times\n48          Oscars Club @ UA MegaBox\n49                             UA \u6dd8\u5927\n50                      UA Cine Moko\n51                            UA \u9752\u8863\u57ce\n55                            UA \u6771\u8588\u57ce\n56                                \u7e3d\u7d71\n57                                \u65b0\u5bf6\n58                          \u9999\u6e2f\u79d1\u5b78\u9928\u6f14\u8b1b\u5ef3\n59                              \u5f71\u85dd\u6232\u9662\n60                                \u51f1\u90fd\n61                        \u5df4\u9ece\u502b\u6566\u7d10\u7d04\u7c73\u862d\u6232\u9662\n62                              \u5143\u6717\u6232\u9662\n63                       \u9999\u6e2f\u5146\u57fa\u5275\u610f\u66f8\u9662\u653e\u6620\u5ba4\n64             L Cinema Shau Kei Wan\n65                        \u9999\u6e2f\u96fb\u5f71\u8cc7\u6599\u9928\u96fb\u5f71\u9662\n66                           \u9952\u9928\u65b0\u4e00\u5929\u9662\u7dda\n67                      \u9999\u6e2f\u85dd\u8853\u4e2d\u5fc3\u53e4\u5929\u6a02\u96fb\u5f71\u9662\n68                      Lumen Cinema\n69                              \u5bf6\u77f3\u6232\u9662\n70                           \u65b0\u5149\u6232\u9662\u5927\u5287\u5834\n71                        Super 3 \u5f71\u9662\n72                                \u5927\u9928"
                    },
                    "execution_count": 50,
                    "metadata": {},
                    "output_type": "execute_result"
                }
            ],
            "source": "df_cinemas['ChiName'].to_frame()"
        },
        {
            "cell_type": "markdown",
            "metadata": {},
            "source": "Cinema '\u65b0\u5149\u6232\u9662\u5927\u5287\u5834' and '\u5927\u9928' should be considered as cinema in Hong Kong. These records must be rmeoved"
        },
        {
            "cell_type": "code",
            "execution_count": 51,
            "metadata": {},
            "outputs": [],
            "source": "df_cinemas.drop(index=[65,67], inplace=True)"
        },
        {
            "cell_type": "code",
            "execution_count": 52,
            "metadata": {},
            "outputs": [],
            "source": "df_cinemas.drop(axis=1, columns=['ChiName'], inplace=True)"
        },
        {
            "cell_type": "code",
            "execution_count": 53,
            "metadata": {},
            "outputs": [
                {
                    "data": {
                        "text/html": "<div>\n<style scoped>\n    .dataframe tbody tr th:only-of-type {\n        vertical-align: middle;\n    }\n\n    .dataframe tbody tr th {\n        vertical-align: top;\n    }\n\n    .dataframe thead th {\n        text-align: right;\n    }\n</style>\n<table border=\"1\" class=\"dataframe\">\n  <thead>\n    <tr style=\"text-align: right;\">\n      <th></th>\n      <th>Name</th>\n      <th>Address</th>\n      <th>Latitude</th>\n      <th>Longitude</th>\n    </tr>\n  </thead>\n  <tbody>\n    <tr>\n      <th>0</th>\n      <td>Emperor Cinemas\uff08CITYWALK\uff09</td>\n      <td>Citywalk II, Tsuen Wan</td>\n      <td>22.369749</td>\n      <td>114.113714</td>\n    </tr>\n    <tr>\n      <th>1</th>\n      <td>Emperor Cinemas - Entertainment Building</td>\n      <td>7/F, iSQUARE, 63 Nathan Road, Tsim Sha Tsui</td>\n      <td>22.304873</td>\n      <td>114.190682</td>\n    </tr>\n    <tr>\n      <th>2</th>\n      <td>Emperor Cinemas\uff08Entertainment Building\uff09</td>\n      <td>3/F, Emperor Cinemas Entertainment Building, 3...</td>\n      <td>22.281453</td>\n      <td>114.154230</td>\n    </tr>\n    <tr>\n      <th>3</th>\n      <td>Emperor Cinemas\uff08Ma On Shan\uff09</td>\n      <td>L2, MOSTown, Sai Sha Road, Ma On Shan, N.T.</td>\n      <td>22.424120</td>\n      <td>114.230957</td>\n    </tr>\n    <tr>\n      <th>4</th>\n      <td>Emperor Cinemas\uff08Tuen Mun\uff09</td>\n      <td>3/F, New Town Commercial Arcade, 2 Tuen Lee St...</td>\n      <td>22.390776</td>\n      <td>113.975983</td>\n    </tr>\n  </tbody>\n</table>\n</div>",
                        "text/plain": "                                       Name  \\\n0                 Emperor Cinemas\uff08CITYWALK\uff09   \n1  Emperor Cinemas - Entertainment Building   \n2   Emperor Cinemas\uff08Entertainment Building\uff09   \n3               Emperor Cinemas\uff08Ma On Shan\uff09   \n4                 Emperor Cinemas\uff08Tuen Mun\uff09   \n\n                                             Address   Latitude   Longitude  \n0                             Citywalk II, Tsuen Wan  22.369749  114.113714  \n1        7/F, iSQUARE, 63 Nathan Road, Tsim Sha Tsui  22.304873  114.190682  \n2  3/F, Emperor Cinemas Entertainment Building, 3...  22.281453  114.154230  \n3        L2, MOSTown, Sai Sha Road, Ma On Shan, N.T.  22.424120  114.230957  \n4  3/F, New Town Commercial Arcade, 2 Tuen Lee St...  22.390776  113.975983  "
                    },
                    "execution_count": 53,
                    "metadata": {},
                    "output_type": "execute_result"
                }
            ],
            "source": "\ndf_cinemas.head()"
        },
        {
            "cell_type": "code",
            "execution_count": 54,
            "metadata": {},
            "outputs": [
                {
                    "data": {
                        "text/plain": "(65, 4)"
                    },
                    "execution_count": 54,
                    "metadata": {},
                    "output_type": "execute_result"
                }
            ],
            "source": "df_cinemas.shape"
        },
        {
            "cell_type": "code",
            "execution_count": 59,
            "metadata": {},
            "outputs": [
                {
                    "data": {
                        "text/plain": "[{'Name': 'Broadway Circuit - MONGKOK', 'Rating': 4.5},\n {'Name': 'Broadway Circuit - The ONE', 'Rating': 4.5},\n {'Name': 'Grand Ocean', 'Rating': 4.3},\n {'Name': 'The Grand Cinema', 'Rating': 3.4},\n {'Name': 'AMC Pacific Place', 'Rating': 2.3},\n {'Name': 'UA IMAX @ Airport', 'Rating': 1.5}]"
                    },
                    "execution_count": 59,
                    "metadata": {},
                    "output_type": "execute_result"
                }
            ],
            "source": "boss_favorite"
        },
        {
            "cell_type": "code",
            "execution_count": 60,
            "metadata": {},
            "outputs": [
                {
                    "data": {
                        "text/html": "<div>\n<style scoped>\n    .dataframe tbody tr th:only-of-type {\n        vertical-align: middle;\n    }\n\n    .dataframe tbody tr th {\n        vertical-align: top;\n    }\n\n    .dataframe thead th {\n        text-align: right;\n    }\n</style>\n<table border=\"1\" class=\"dataframe\">\n  <thead>\n    <tr style=\"text-align: right;\">\n      <th></th>\n      <th>Name</th>\n      <th>Address</th>\n      <th>Latitude</th>\n      <th>Longitude</th>\n    </tr>\n  </thead>\n  <tbody>\n    <tr>\n      <th>25</th>\n      <td>Broadway Circuit - MONGKOK</td>\n      <td>6-12 Sai Yeung Choi Street, Mongkok, Kowloon</td>\n      <td>22.317077</td>\n      <td>114.170662</td>\n    </tr>\n    <tr>\n      <th>26</th>\n      <td>Broadway Circuit - The ONE</td>\n      <td>6-11/F, The ONE, No. 100 Nathan Road, Tsim Sha...</td>\n      <td>22.300058</td>\n      <td>114.172667</td>\n    </tr>\n    <tr>\n      <th>29</th>\n      <td>The Grand Cinema</td>\n      <td>Kingswood Ginza, 18 Tin Yan Road, Tin Shui Wai...</td>\n      <td>22.457220</td>\n      <td>114.003976</td>\n    </tr>\n    <tr>\n      <th>33</th>\n      <td>AMC Pacific Place</td>\n      <td>Level 1, Pacific Place, 88 Queensway Road, Hon...</td>\n      <td>22.277673</td>\n      <td>114.165566</td>\n    </tr>\n    <tr>\n      <th>41</th>\n      <td>Grand Ocean</td>\n      <td>Ocean Centre, 3 Canton Road, Kowloon</td>\n      <td>22.295165</td>\n      <td>114.169176</td>\n    </tr>\n  </tbody>\n</table>\n</div>",
                        "text/plain": "                          Name  \\\n25  Broadway Circuit - MONGKOK   \n26  Broadway Circuit - The ONE   \n29            The Grand Cinema   \n33           AMC Pacific Place   \n41                 Grand Ocean   \n\n                                              Address   Latitude   Longitude  \n25       6-12 Sai Yeung Choi Street, Mongkok, Kowloon  22.317077  114.170662  \n26  6-11/F, The ONE, No. 100 Nathan Road, Tsim Sha...  22.300058  114.172667  \n29  Kingswood Ginza, 18 Tin Yan Road, Tin Shui Wai...  22.457220  114.003976  \n33  Level 1, Pacific Place, 88 Queensway Road, Hon...  22.277673  114.165566  \n41               Ocean Centre, 3 Canton Road, Kowloon  22.295165  114.169176  "
                    },
                    "execution_count": 60,
                    "metadata": {},
                    "output_type": "execute_result"
                }
            ],
            "source": "names = [ cinema['Name'] for cinema in boss_favorite ]\ndf_cinemas[df_cinemas.Name.isin(names)]"
        },
        {
            "cell_type": "code",
            "execution_count": 61,
            "metadata": {},
            "outputs": [
                {
                    "data": {
                        "text/html": "<div>\n<style scoped>\n    .dataframe tbody tr th:only-of-type {\n        vertical-align: middle;\n    }\n\n    .dataframe tbody tr th {\n        vertical-align: top;\n    }\n\n    .dataframe thead th {\n        text-align: right;\n    }\n</style>\n<table border=\"1\" class=\"dataframe\">\n  <thead>\n    <tr style=\"text-align: right;\">\n      <th></th>\n      <th>Name</th>\n      <th>Rating</th>\n    </tr>\n  </thead>\n  <tbody>\n    <tr>\n      <th>0</th>\n      <td>Broadway Circuit - MONGKOK</td>\n      <td>4.5</td>\n    </tr>\n    <tr>\n      <th>1</th>\n      <td>Broadway Circuit - The ONE</td>\n      <td>4.5</td>\n    </tr>\n    <tr>\n      <th>2</th>\n      <td>Grand Ocean</td>\n      <td>4.3</td>\n    </tr>\n    <tr>\n      <th>3</th>\n      <td>The Grand Cinema</td>\n      <td>3.4</td>\n    </tr>\n    <tr>\n      <th>4</th>\n      <td>AMC Pacific Place</td>\n      <td>2.3</td>\n    </tr>\n    <tr>\n      <th>5</th>\n      <td>UA IMAX @ Airport</td>\n      <td>1.5</td>\n    </tr>\n  </tbody>\n</table>\n</div>",
                        "text/plain": "                         Name  Rating\n0  Broadway Circuit - MONGKOK     4.5\n1  Broadway Circuit - The ONE     4.5\n2                 Grand Ocean     4.3\n3            The Grand Cinema     3.4\n4           AMC Pacific Place     2.3\n5           UA IMAX @ Airport     1.5"
                    },
                    "execution_count": 61,
                    "metadata": {},
                    "output_type": "execute_result"
                }
            ],
            "source": "df_boss_favorite = pd.DataFrame(boss_favorite, columns=['Name','Rating'])\ndf_boss_favorite"
        },
        {
            "cell_type": "markdown",
            "metadata": {},
            "source": "Data Analysis"
        },
        {
            "cell_type": "code",
            "execution_count": 62,
            "metadata": {},
            "outputs": [
                {
                    "name": "stdout",
                    "output_type": "stream",
                    "text": "Solving environment: done\n\n## Package Plan ##\n\n  environment location: /opt/conda/envs/Python36\n\n  added / updated specs: \n    - seaborn=0.9\n\n\nThe following packages will be downloaded:\n\n    package                    |            build\n    ---------------------------|-----------------\n    ca-certificates-2020.1.1   |                0         132 KB\n    certifi-2019.11.28         |           py36_0         156 KB\n    ------------------------------------------------------------\n                                           Total:         289 KB\n\nThe following packages will be UPDATED:\n\n    ca-certificates: 2019.11.28-hecc5488_0 conda-forge --> 2020.1.1-0       \n    certifi:         2019.11.28-py36_0     conda-forge --> 2019.11.28-py36_0\n    openssl:         1.1.1d-h516909a_0     conda-forge --> 1.1.1d-h7b6447c_3\n\n\nDownloading and Extracting Packages\nca-certificates-2020 | 132 KB    | ##################################### | 100% \ncertifi-2019.11.28   | 156 KB    | ##################################### | 100% \nPreparing transaction: done\nVerifying transaction: done\nExecuting transaction: done\n"
                }
            ],
            "source": "!conda install seaborn=0.9 --yes"
        },
        {
            "cell_type": "code",
            "execution_count": 65,
            "metadata": {},
            "outputs": [
                {
                    "name": "stdout",
                    "output_type": "stream",
                    "text": "Solving environment: done\n\n## Package Plan ##\n\n  environment location: /opt/conda/envs/Python36\n\n  added / updated specs: \n    - folium=0.5\n\n\nThe following packages will be downloaded:\n\n    package                    |            build\n    ---------------------------|-----------------\n    certifi-2019.11.28         |           py36_0         149 KB  conda-forge\n\nThe following packages will be UPDATED:\n\n    certifi:         2019.11.28-py36_0 --> 2019.11.28-py36_0     conda-forge\n\nThe following packages will be DOWNGRADED:\n\n    ca-certificates: 2020.1.1-0        --> 2019.11.28-hecc5488_0 conda-forge\n    openssl:         1.1.1d-h7b6447c_3 --> 1.1.1d-h516909a_0     conda-forge\n\n\nDownloading and Extracting Packages\ncertifi-2019.11.28   | 149 KB    | ##################################### | 100% \nPreparing transaction: done\nVerifying transaction: done\nExecuting transaction: done\nFolium installed and imported!\n"
                }
            ],
            "source": "!conda install -c conda-forge folium=0.5 --yes\nimport folium\n\nprint('Folium installed and imported!')"
        },
        {
            "cell_type": "code",
            "execution_count": null,
            "metadata": {},
            "outputs": [],
            "source": "hk_coords = getLatLng('Hong Kong')"
        },
        {
            "cell_type": "markdown",
            "metadata": {},
            "source": "Visualize the location of cinemas, target location and stakeholder's favorite cineams on the map"
        },
        {
            "cell_type": "code",
            "execution_count": null,
            "metadata": {},
            "outputs": [],
            "source": "hk_map = folium.Map(location=hk_coords, zoom_start=12, tiles='Stamen Toner')\n\ncinemas_fg = folium.FeatureGroup()\ntargets_fg = folium.FeatureGroup()\n\nfor(location, address, latitude, longitude) in df_possible_locations.itertuples(index=False):\n    targets_fg.add_child(\n        folium.features.CircleMarker(\n            location=(latitude, longitude),\n            popup=location,\n            radius=5,\n            fill=True,\n            color='yellow',\n            fill_opacity=1.\n        )\n    )\n\nboss_ratings = df_boss_favorite.set_index('Name')    \nname_list = boss_ratings.index.tolist()\n\nfor (name, address, latitude, longitude ) in df_cinemas.itertuples(index=False):    \n    \n    color = 'blue'        \n    popup = name\n    \n    if( name in name_list ):\n        color = 'red'    \n        popup = '{} - Rating: {}'.format(name, boss_ratings.loc[name,'Rating'])\n        \n    cinemas_fg.add_child(        \n        folium.features.CircleMarker(\n            location=(latitude, longitude),\n            popup=popup,\n            radius=5,\n            fill=True,\n            color=color,\n            fill_opacity=1.\n        )\n    )\n    \nhk_map.add_child(cinemas_fg)\nhk_map.add_child(targets_fg)"
        },
        {
            "cell_type": "markdown",
            "metadata": {},
            "source": "Most of Hong Kong cinemas (blue circle) and stakeholder's favorite cinemas (red circle) location are built near main road, and centralized in urban area of Hong Kong. The target locations (yellow circle) of new cinema are not near to main road."
        },
        {
            "cell_type": "markdown",
            "metadata": {},
            "source": "## results"
        },
        {
            "cell_type": "markdown",
            "metadata": {},
            "source": "With the boss's profile and the complete list of cinemas and their venues count in hand, I am going to take the weighted average of every lcoation based on the profile and recommend the top location that most satisfy it."
        },
        {
            "cell_type": "code",
            "execution_count": null,
            "metadata": {},
            "outputs": [],
            "source": "df_recommend = (df_targets_normalized*boss_profile).sum(axis=1)/boss_profile.sum()\ndf_recommend = df_recommend.reset_index(name='Rating')"
        },
        {
            "cell_type": "code",
            "execution_count": null,
            "metadata": {},
            "outputs": [],
            "source": "df_possible_locations"
        },
        {
            "cell_type": "code",
            "execution_count": null,
            "metadata": {},
            "outputs": [],
            "source": "df_final = pd.merge(\n    df_possible_locations,\n    df_recommend,\n    left_on='Location',\n    right_on='Location'\n)\ndf_final.sort_values('Rating', ascending=False, inplace=True)"
        },
        {
            "cell_type": "code",
            "execution_count": null,
            "metadata": {},
            "outputs": [],
            "source": "df_final"
        },
        {
            "cell_type": "markdown",
            "metadata": {},
            "source": "\nThe result is reasonable. Location \"L5\" has the most number of venues in category \"Bus Stop\", \"Food\", \"Metro Station\" and \"Shop & Service\"."
        },
        {
            "cell_type": "markdown",
            "metadata": {},
            "source": "## Discussion"
        },
        {
            "cell_type": "markdown",
            "metadata": {},
            "source": "Discussion section where you discuss any observations you noted and any recommendations you can make based on the results."
        },
        {
            "cell_type": "code",
            "execution_count": null,
            "metadata": {},
            "outputs": [],
            "source": "df_venues_count.mean().to_frame(name='Average Count')\ndf_target_venues_count.mean().to_frame('Average Count')"
        },
        {
            "cell_type": "markdown",
            "metadata": {},
            "source": "I should contact local commercial property agents to find more suitable locations. Moreover, FourSquare is not popular in Hong Kong, the data maybe out-dated or unreliable, the report should gather more data from other location data source such as Google Place API."
        },
        {
            "cell_type": "markdown",
            "metadata": {},
            "source": "## Conclusion"
        },
        {
            "cell_type": "markdown",
            "metadata": {},
            "source": "The stakeholder's problem is resolved. Stakeholder wants to find the best place to build a new cinema in Hong Kong, and the factors of \"best location\" is based on the number of venues in eating, shopping, transportation category around the location. Stakeholder also provide his favorite list of cinema to further explain what the \"best location\" is. Content-based filtering machine learning technique is the most suitable method to resolve the problem. It combines stakeholder's preference and cinema profile to make the recommendation result.\n\nThe 5 target locations of new cinema may not be a good choices. As the weighting matrix is developed, I can quickly pick other locations and make the recommendation again."
        },
        {
            "cell_type": "code",
            "execution_count": null,
            "metadata": {},
            "outputs": [],
            "source": ""
        }
    ],
    "metadata": {
        "kernelspec": {
            "display_name": "Python 3.6",
            "language": "python",
            "name": "python3"
        },
        "language_info": {
            "codemirror_mode": {
                "name": "ipython",
                "version": 3
            },
            "file_extension": ".py",
            "mimetype": "text/x-python",
            "name": "python",
            "nbconvert_exporter": "python",
            "pygments_lexer": "ipython3",
            "version": "3.6.9"
        }
    },
    "nbformat": 4,
    "nbformat_minor": 1
}